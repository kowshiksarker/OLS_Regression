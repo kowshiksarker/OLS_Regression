{
 "cells": [
  {
   "cell_type": "markdown",
   "metadata": {
    "colab_type": "text",
    "id": "CazISR8X_HUG"
   },
   "source": [
    "# Multiple Linear Regression"
   ]
  },
  {
   "cell_type": "markdown",
   "metadata": {
    "colab_type": "text",
    "id": "pOyqYHTk_Q57"
   },
   "source": [
    "## Importing the libraries"
   ]
  },
  {
   "cell_type": "code",
   "execution_count": 1,
   "metadata": {
    "colab": {},
    "colab_type": "code",
    "id": "T_YHJjnD_Tja"
   },
   "outputs": [],
   "source": [
    "import numpy as np\n",
    "import matplotlib.pyplot as plt\n",
    "import pandas as pd"
   ]
  },
  {
   "cell_type": "markdown",
   "metadata": {
    "colab_type": "text",
    "id": "vgC61-ah_WIz"
   },
   "source": [
    "## Importing the dataset"
   ]
  },
  {
   "cell_type": "code",
   "execution_count": 2,
   "metadata": {
    "colab": {},
    "colab_type": "code",
    "id": "UrxyEKGn_ez7"
   },
   "outputs": [],
   "source": [
    "dataset = pd.read_csv('HDI.csv')\n",
    "X = dataset.iloc[:, :-1].values\n",
    "y = dataset.iloc[:, -1].values"
   ]
  },
  {
   "cell_type": "code",
   "execution_count": 3,
   "metadata": {
    "colab": {
     "base_uri": "https://localhost:8080/",
     "height": 857
    },
    "colab_type": "code",
    "executionInfo": {
     "elapsed": 552,
     "status": "ok",
     "timestamp": 1586353652778,
     "user": {
      "displayName": "Hadelin de Ponteves",
      "photoUrl": "https://lh3.googleusercontent.com/a-/AOh14GhEuXdT7eQweUmRPW8_laJuPggSK6hfvpl5a6WBaA=s64",
      "userId": "15047218817161520419"
     },
     "user_tz": -240
    },
    "id": "GOB3QhV9B5kD",
    "outputId": "4a05377a-2db2-43fc-b824-a0710448baee"
   },
   "outputs": [
    {
     "name": "stdout",
     "output_type": "stream",
     "text": [
      "[[4.29000e-01 1.78700e+03 5.79000e+01]\n",
      " [4.33000e-01 1.76600e+03 5.84000e+01]\n",
      " [4.40000e-01 1.82500e+03 5.89000e+01]\n",
      " [4.46000e-01 1.87700e+03 5.93000e+01]\n",
      " [4.53000e-01 1.96600e+03 5.98000e+01]\n",
      " [4.61000e-01 2.07800e+03 6.03000e+01]\n",
      " [4.68000e-01 2.19700e+03 6.08000e+01]\n",
      " [4.74000e-01 2.24500e+03 6.12000e+01]\n",
      " [4.81000e-01 2.34100e+03 6.17000e+01]\n",
      " [4.89000e-01 2.50400e+03 6.21000e+01]\n",
      " [4.95000e-01 2.54800e+03 6.25000e+01]\n",
      " [4.99000e-01 2.63000e+03 6.29000e+01]\n",
      " [5.06000e-01 2.68900e+03 6.33000e+01]\n",
      " [5.18000e-01 2.85100e+03 6.37000e+01]\n",
      " [5.27000e-01 3.02900e+03 6.41000e+01]\n",
      " [5.36000e-01 3.21700e+03 6.45000e+01]\n",
      " [5.46000e-01 3.42100e+03 6.49000e+01]\n",
      " [5.55000e-01 3.64000e+03 6.53000e+01]\n",
      " [5.63000e-01 3.69100e+03 6.58000e+01]\n",
      " [5.69000e-01 3.92600e+03 6.62000e+01]\n",
      " [5.79000e-01 4.18200e+03 6.67000e+01]\n",
      " [5.88000e-01 4.35300e+03 6.71000e+01]\n",
      " [5.97000e-01 4.52100e+03 6.75000e+01]\n",
      " [6.04000e-01 4.74900e+03 6.79000e+01]\n",
      " [6.16000e-01 5.04700e+03 6.83000e+01]\n",
      " [6.24000e-01 5.39100e+03 6.86000e+01]\n",
      " [6.30000e-01 5.72200e+03 6.89000e+01]\n",
      " [6.40000e-01 6.11900e+03 6.92000e+01]\n",
      " [6.42000e-01 6.42700e+03 6.94000e+01]\n",
      " [6.45000e-01 6.68100e+03 6.97000e+01]\n",
      " [7.23000e-01 1.02433e+05 7.19000e+01]\n",
      " [7.35000e-01 9.62500e+04 7.22000e+01]\n",
      " [7.38000e-01 9.30440e+04 7.25000e+01]\n",
      " [7.45000e-01 9.25050e+04 7.27000e+01]\n",
      " [7.55000e-01 9.67850e+04 7.30000e+01]\n",
      " [7.64000e-01 1.01303e+05 7.32000e+01]\n",
      " [7.65000e-01 1.01490e+05 7.34000e+01]\n",
      " [7.66000e-01 1.03567e+05 7.37000e+01]\n",
      " [7.69000e-01 9.99160e+04 7.39000e+01]\n",
      " [7.76000e-01 9.85690e+04 7.41000e+01]\n",
      " [7.82000e-01 1.04640e+05 7.43000e+01]\n",
      " [7.87000e-01 1.03519e+05 7.45000e+01]\n",
      " [7.92000e-01 9.67370e+04 7.48000e+01]\n",
      " [7.98000e-01 9.77620e+04 7.50000e+01]\n",
      " [8.03000e-01 9.82360e+04 7.52000e+01]\n",
      " [8.09000e-01 9.24430e+04 7.54000e+01]\n",
      " [8.14000e-01 8.85020e+04 7.56000e+01]\n",
      " [8.19000e-01 7.94590e+04 7.58000e+01]\n",
      " [8.21000e-01 6.98150e+04 7.60000e+01]\n",
      " [8.19000e-01 5.90170e+04 7.61000e+01]\n",
      " [8.20000e-01 5.49110e+04 7.63000e+01]\n",
      " [8.26000e-01 5.61530e+04 7.65000e+01]\n",
      " [8.32000e-01 5.74470e+04 7.67000e+01]\n",
      " [8.38000e-01 6.00070e+04 7.69000e+01]\n",
      " [8.47000e-01 6.25000e+04 7.71000e+01]\n",
      " [8.59000e-01 6.55290e+04 7.73000e+01]\n",
      " [8.64000e-01 6.68810e+04 7.75000e+01]\n",
      " [8.81000e-01 6.76680e+04 7.76000e+01]\n",
      " [8.89000e-01 6.71950e+04 7.78000e+01]\n",
      " [8.90000e-01 6.74620e+04 7.80000e+01]\n",
      " [7.81000e-01 3.04560e+04 7.57000e+01]\n",
      " [7.94000e-01 3.00460e+04 7.59000e+01]\n",
      " [8.07000e-01 3.01630e+04 7.61000e+01]\n",
      " [8.20000e-01 3.08110e+04 7.63000e+01]\n",
      " [8.33000e-01 3.20190e+04 7.65000e+01]\n",
      " [8.46000e-01 3.26710e+04 7.67000e+01]\n",
      " [8.51000e-01 3.34180e+04 7.69000e+01]\n",
      " [8.56000e-01 3.46620e+04 7.71000e+01]\n",
      " [8.62000e-01 3.60040e+04 7.73000e+01]\n",
      " [8.68000e-01 3.68770e+04 7.75000e+01]\n",
      " [8.74000e-01 3.82710e+04 7.78000e+01]\n",
      " [8.78000e-01 3.93910e+04 7.80000e+01]\n",
      " [8.81000e-01 4.03620e+04 7.83000e+01]\n",
      " [8.85000e-01 4.14900e+04 7.85000e+01]\n",
      " [8.92000e-01 4.21380e+04 7.88000e+01]\n",
      " [8.97000e-01 4.33110e+04 7.91000e+01]\n",
      " [8.96000e-01 4.36520e+04 7.93000e+01]\n",
      " [8.99000e-01 4.41160e+04 7.96000e+01]\n",
      " [9.03000e-01 4.34540e+04 7.98000e+01]\n",
      " [9.06000e-01 4.13670e+04 8.01000e+01]\n",
      " [9.12000e-01 4.21830e+04 8.04000e+01]\n",
      " [9.06000e-01 4.26350e+04 8.06000e+01]\n",
      " [9.04000e-01 4.23620e+04 8.07000e+01]\n",
      " [9.21000e-01 4.25470e+04 8.09000e+01]\n",
      " [9.25000e-01 4.33300e+04 8.10000e+01]\n",
      " [9.23000e-01 4.38850e+04 8.11000e+01]\n",
      " [9.24000e-01 4.43350e+04 8.11000e+01]\n",
      " [9.26000e-01 4.54270e+04 8.12000e+01]\n",
      " [9.28000e-01 4.56860e+04 8.12000e+01]\n",
      " [9.32000e-01 4.60710e+04 8.13000e+01]\n",
      " [8.65000e-01 4.09420e+04 7.52000e+01]\n",
      " [8.67000e-01 4.03280e+04 7.54000e+01]\n",
      " [8.72000e-01 4.11580e+04 7.56000e+01]\n",
      " [8.77000e-01 4.17280e+04 7.57000e+01]\n",
      " [8.80000e-01 4.28210e+04 7.59000e+01]\n",
      " [8.83000e-01 4.34720e+04 7.61000e+01]\n",
      " [8.84000e-01 4.45970e+04 7.62000e+01]\n",
      " [8.86000e-01 4.59730e+04 7.64000e+01]\n",
      " [8.89000e-01 4.74390e+04 7.65000e+01]\n",
      " [8.90000e-01 4.91620e+04 7.67000e+01]\n",
      " [8.86000e-01 5.06630e+04 7.68000e+01]\n",
      " [8.89000e-01 5.07250e+04 7.70000e+01]\n",
      " [8.91000e-01 5.11090e+04 7.71000e+01]\n",
      " [8.94000e-01 5.21700e+04 7.73000e+01]\n",
      " [8.97000e-01 5.37220e+04 7.75000e+01]\n",
      " [9.00000e-01 5.50750e+04 7.77000e+01]\n",
      " [9.03000e-01 5.59750e+04 7.79000e+01]\n",
      " [9.06000e-01 5.67020e+04 7.81000e+01]\n",
      " [9.11000e-01 5.62500e+04 7.83000e+01]\n",
      " [9.12000e-01 5.43150e+04 7.85000e+01]\n",
      " [9.16000e-01 5.54210e+04 7.87000e+01]\n",
      " [9.19000e-01 5.59920e+04 7.88000e+01]\n",
      " [9.20000e-01 5.67900e+04 7.89000e+01]\n",
      " [9.18000e-01 5.74090e+04 7.89000e+01]\n",
      " [9.20000e-01 5.83930e+04 7.89000e+01]\n",
      " [9.21000e-01 5.95590e+04 7.89000e+01]\n",
      " [9.22000e-01 6.00240e+04 7.89000e+01]\n",
      " [9.24000e-01 6.10190e+04 7.89000e+01]\n",
      " [9.25000e-01 6.26670e+04 7.89000e+01]\n",
      " [9.26000e-01 6.38260e+04 7.89000e+01]]\n"
     ]
    }
   ],
   "source": [
    "print(X)"
   ]
  },
  {
   "cell_type": "markdown",
   "metadata": {
    "colab_type": "text",
    "id": "WemVnqgeA70k"
   },
   "source": [
    "## Splitting the dataset into the Training set and Test set"
   ]
  },
  {
   "cell_type": "code",
   "execution_count": 4,
   "metadata": {
    "colab": {},
    "colab_type": "code",
    "id": "Kb_v_ae-A-20"
   },
   "outputs": [],
   "source": [
    "from sklearn.model_selection import train_test_split\n",
    "X_train, X_test, y_train, y_test = train_test_split(X, y, test_size = 0.2, random_state = 0)"
   ]
  },
  {
   "cell_type": "markdown",
   "metadata": {
    "colab_type": "text",
    "id": "k-McZVsQBINc"
   },
   "source": [
    "## Training the Multiple Linear Regression model on the Training set"
   ]
  },
  {
   "cell_type": "code",
   "execution_count": 5,
   "metadata": {
    "colab": {
     "base_uri": "https://localhost:8080/",
     "height": 34
    },
    "colab_type": "code",
    "executionInfo": {
     "elapsed": 757,
     "status": "ok",
     "timestamp": 1586353664008,
     "user": {
      "displayName": "Hadelin de Ponteves",
      "photoUrl": "https://lh3.googleusercontent.com/a-/AOh14GhEuXdT7eQweUmRPW8_laJuPggSK6hfvpl5a6WBaA=s64",
      "userId": "15047218817161520419"
     },
     "user_tz": -240
    },
    "id": "ywPjx0L1BMiD",
    "outputId": "099836bc-4d85-4b4f-a488-093faf02e8cb"
   },
   "outputs": [
    {
     "data": {
      "text/plain": [
       "LinearRegression()"
      ]
     },
     "execution_count": 5,
     "metadata": {},
     "output_type": "execute_result"
    }
   ],
   "source": [
    "from sklearn.linear_model import LinearRegression\n",
    "regressor = LinearRegression()\n",
    "regressor.fit(X_train, y_train)"
   ]
  },
  {
   "cell_type": "markdown",
   "metadata": {
    "colab_type": "text",
    "id": "xNkXL1YQBiBT"
   },
   "source": [
    "## Predicting the Test set results"
   ]
  },
  {
   "cell_type": "code",
   "execution_count": 6,
   "metadata": {
    "colab": {
     "base_uri": "https://localhost:8080/",
     "height": 185
    },
    "colab_type": "code",
    "executionInfo": {
     "elapsed": 951,
     "status": "ok",
     "timestamp": 1586353666678,
     "user": {
      "displayName": "Hadelin de Ponteves",
      "photoUrl": "https://lh3.googleusercontent.com/a-/AOh14GhEuXdT7eQweUmRPW8_laJuPggSK6hfvpl5a6WBaA=s64",
      "userId": "15047218817161520419"
     },
     "user_tz": -240
    },
    "id": "TQKmwvtdBkyb",
    "outputId": "493436bf-a4ae-4374-ca16-0b0c25d19457"
   },
   "outputs": [
    {
     "name": "stdout",
     "output_type": "stream",
     "text": [
      "[[13.07 11.9 ]\n",
      " [15.8  16.  ]\n",
      " [15.84 16.  ]\n",
      " [ 8.53  8.3 ]\n",
      " [15.78 15.9 ]\n",
      " [11.04 11.5 ]\n",
      " [ 8.38  8.2 ]\n",
      " [ 8.83  8.3 ]\n",
      " [11.72 11.4 ]\n",
      " [16.72 17.5 ]\n",
      " [10.26 10.5 ]\n",
      " [13.75 12.2 ]\n",
      " [ 7.66  7.9 ]\n",
      " [13.99 13.7 ]\n",
      " [15.81 16.3 ]\n",
      " [16.02 16.5 ]\n",
      " [ 9.28 10.3 ]\n",
      " [11.21 11.1 ]\n",
      " [16.02 16.3 ]\n",
      " [16.03 16.1 ]\n",
      " [14.9  14.5 ]\n",
      " [14.79 14.3 ]\n",
      " [ 9.95  9.9 ]\n",
      " [11.45 11.9 ]]\n"
     ]
    }
   ],
   "source": [
    "y_pred = regressor.predict(X_test)\n",
    "np.set_printoptions(precision=2)\n",
    "print(np.concatenate((y_pred.reshape(len(y_pred),1), y_test.reshape(len(y_test),1)),1))"
   ]
  },
  {
   "cell_type": "code",
   "execution_count": 8,
   "metadata": {},
   "outputs": [
    {
     "name": "stdout",
     "output_type": "stream",
     "text": [
      "Mean squared error: 0.32\n",
      "Coefficient of determination: 0.97\n"
     ]
    }
   ],
   "source": [
    "from sklearn.metrics import mean_squared_error, r2_score\n",
    "# The mean squared error\n",
    "print('Mean squared error: %.2f'\n",
    "      % mean_squared_error(y_test, y_pred))\n",
    "# The coefficient of determination: 1 is perfect prediction\n",
    "print('Coefficient of determination: %.2f'\n",
    "      % r2_score(y_test, y_pred))"
   ]
  }
 ],
 "metadata": {
  "colab": {
   "authorship_tag": "ABX9TyPhYhte6t7H4wEK4xPpDWT7",
   "name": "Multiple Linear Regression",
   "provenance": [],
   "toc_visible": true
  },
  "kernelspec": {
   "display_name": "Python 3",
   "language": "python",
   "name": "python3"
  },
  "language_info": {
   "codemirror_mode": {
    "name": "ipython",
    "version": 3
   },
   "file_extension": ".py",
   "mimetype": "text/x-python",
   "name": "python",
   "nbconvert_exporter": "python",
   "pygments_lexer": "ipython3",
   "version": "3.8.3"
  }
 },
 "nbformat": 4,
 "nbformat_minor": 1
}
